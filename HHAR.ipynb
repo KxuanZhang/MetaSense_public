{
 "cells": [
  {
   "cell_type": "code",
   "execution_count": 2,
   "metadata": {},
   "outputs": [],
   "source": [
    "from torch.utils.data import DataLoader\n",
    "import torch\n",
    "import numpy as np\n",
    "import time\n",
    "import math\n",
    "from data_loader.HHARDataset import HHARDataset\n",
    "import pandas as pd\n",
    "from torchvision import transforms\n",
    "from PIL import Image\n",
    "import cv2\n",
    "import os"
   ]
  },
  {
   "cell_type": "code",
   "execution_count": 3,
   "metadata": {},
   "outputs": [],
   "source": [
    "file_path = \"D:\\Dataset\\HHAR\\hhar_minmax_scaling_all.csv\" \n",
    "save_class_path = \"D:\\Dataset\\hhar256\"\n",
    "OVERLAPPING_WIN_LEN = 256 // 2\n",
    "users = ['a','b','c','d','e','f','g','h','i']\n",
    "class2id = {'bike':'0', 'sit':'1', 'stand':'2', 'walk':'3', 'stairsup':'4', 'stairsdown':'5'}\n",
    "transform = transforms.Compose([ transforms.ToTensor() ,transforms.Resize((128, 128))])\n",
    "\n",
    "df = pd.read_csv(file_path)"
   ]
  },
  {
   "cell_type": "code",
   "execution_count": 3,
   "metadata": {},
   "outputs": [
    {
     "name": "stdout",
     "output_type": "stream",
     "text": [
      "user:a done!\n",
      "user:b done!\n",
      "user:c done!\n",
      "user:d done!\n",
      "user:e done!\n",
      "user:f done!\n",
      "user:g done!\n",
      "user:h done!\n",
      "user:i done!\n"
     ]
    }
   ],
   "source": [
    "for user in users:\n",
    "    df_a = df[ df['User'] == user]\n",
    "    # 文件夹\n",
    "    if not os.path.exists(os.path.join(save_class_path, user)):\n",
    "        os.mkdir(os.path.join(save_class_path, user))\n",
    "    for idx in range(max(len(df_a) // OVERLAPPING_WIN_LEN-1 , 0)):\n",
    "        user = df_a.iloc[idx * OVERLAPPING_WIN_LEN, 9]\n",
    "        model = df_a.iloc[idx * OVERLAPPING_WIN_LEN, 10]\n",
    "        device = df_a.iloc[idx * OVERLAPPING_WIN_LEN, 11]\n",
    "        class_label = df_a.iloc[idx * OVERLAPPING_WIN_LEN, 12]\n",
    "        feature = df_a.iloc[idx * OVERLAPPING_WIN_LEN:(idx + 2) * OVERLAPPING_WIN_LEN,3:9].values\n",
    "        feature = feature.T\n",
    "        # reshape\n",
    "        f = transform(feature)\n",
    "        f = f.expand(3,-1,-1)\n",
    "        f = f.reshape(128,128,3)\n",
    "        f = f.numpy()\n",
    "        # print(f.shape)\n",
    "        # 归一化转图像\n",
    "        f =  ((f - f.min()) * (1 / (f.max() - f.min()) * 255)).astype(np.uint8)\n",
    "        image = Image.fromarray(f)\n",
    "        if not os.path.exists(os.path.join(save_class_path, user, str( class2id[class_label]))):\n",
    "            os.mkdir(os.path.join(save_class_path, user, str( class2id[class_label])))\n",
    "        save_file_path = os.path.join( save_class_path, user, str( class2id[class_label]) , model + str(idx)+'.jpg')\n",
    "        image.save(save_file_path)\n",
    "    print(\"user:%s done!\"%(user))\n",
    "  \n",
    "    \n",
    "\n"
   ]
  },
  {
   "cell_type": "code",
   "execution_count": 6,
   "metadata": {},
   "outputs": [
    {
     "name": "stdout",
     "output_type": "stream",
     "text": [
      "11083\n",
      "11773\n",
      "10917\n",
      "10967\n",
      "12073\n",
      "10901\n",
      "8781\n",
      "8699\n",
      "8981\n",
      "mean 10463.888888888889\n"
     ]
    }
   ],
   "source": [
    "num_list = []\n",
    "for user in users:\n",
    "    df_a = df[ df['User'] == user]\n",
    "    user_data = []\n",
    "    for idx in range(max(len(df_a) // OVERLAPPING_WIN_LEN-1 , 0)):\n",
    "        user = df_a.iloc[idx * OVERLAPPING_WIN_LEN, 9]\n",
    "        model = df_a.iloc[idx * OVERLAPPING_WIN_LEN, 10]\n",
    "        device = df_a.iloc[idx * OVERLAPPING_WIN_LEN, 11]\n",
    "        class_label = df_a.iloc[idx * OVERLAPPING_WIN_LEN, 12]\n",
    "        feature = df_a.iloc[idx * OVERLAPPING_WIN_LEN:(idx + 2) * OVERLAPPING_WIN_LEN,3:9].values\n",
    "        feature = feature.T\n",
    "        user_data.append(feature)\n",
    "    print(len(user_data))\n",
    "    num_list.append(len(user_data))\n",
    "print(\"mean\", np.mean(num_list))\n",
    "  "
   ]
  },
  {
   "cell_type": "markdown",
   "metadata": {},
   "source": [
    "使用Metasense的HHAR数据loader加载数据"
   ]
  },
  {
   "cell_type": "code",
   "execution_count": 21,
   "metadata": {},
   "outputs": [
    {
     "name": "stdout",
     "output_type": "stream",
     "text": [
      "Valid domains:[('nexus4', 'b'), ('nexus4', 'c'), ('nexus4', 'd'), ('nexus4', 'e'), ('nexus4', 'f'), ('s3', 'b'), ('s3', 'c'), ('s3', 'd'), ('s3', 'e'), ('s3', 'f'), ('s3mini', 'b'), ('s3mini', 'c'), ('s3mini', 'd'), ('s3mini', 'e'), ('s3mini', 'f'), ('lgwatch', 'b'), ('lgwatch', 'c'), ('lgwatch', 'd'), ('lgwatch', 'e'), ('lgwatch', 'f')]\n",
      "Loading data done with rows:10636800\tPreprocessing:530.893903\tTotal Time:2455.451859\n"
     ]
    }
   ],
   "source": [
    "file_path = \"D:\\Dataset\\HHAR\\hhar_minmax_scaling_all.csv\" \n",
    "'nexus5x.neuxs5x_1.a'\n",
    "mydata = HHARDataset(file=file_path, model='nexus5x', device='neuxs5x_1', user='a',\n",
    "                                              complementary=True )\n",
    "print(mydata.__getitem__(0)[0].shape )\n",
    "\n",
    "datssets = mydata.get_datasets_per_domain()\n",
    "for idx ,  d in enumerate( datssets):\n",
    "    print(len(d), mydata.domain_superset[idx])"
   ]
  }
 ],
 "metadata": {
  "kernelspec": {
   "display_name": "Python 3.9.12 ('torch1.12')",
   "language": "python",
   "name": "python3"
  },
  "language_info": {
   "codemirror_mode": {
    "name": "ipython",
    "version": 3
   },
   "file_extension": ".py",
   "mimetype": "text/x-python",
   "name": "python",
   "nbconvert_exporter": "python",
   "pygments_lexer": "ipython3",
   "version": "3.9.12"
  },
  "orig_nbformat": 4,
  "vscode": {
   "interpreter": {
    "hash": "b6c9a4f7c1b4efee2a21a725b505fcbb21b8eb6def14428e9cd42d2c3e172b32"
   }
  }
 },
 "nbformat": 4,
 "nbformat_minor": 2
}
